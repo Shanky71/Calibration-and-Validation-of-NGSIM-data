{
 "cells": [
  {
   "cell_type": "code",
   "execution_count": 1,
   "id": "d6a4069b",
   "metadata": {},
   "outputs": [],
   "source": [
    "import numpy as np\n",
    "import pandas as pd\n",
    "from matplotlib import pyplot as plt\n"
   ]
  },
  {
   "cell_type": "code",
   "execution_count": 2,
   "id": "7603561b",
   "metadata": {},
   "outputs": [
    {
     "data": {
      "text/plain": [
       "0      129.430272\n",
       "1      129.131568\n",
       "2      128.832864\n",
       "3      128.531112\n",
       "4      128.235456\n",
       "          ...    \n",
       "516      6.333744\n",
       "517      6.449568\n",
       "518      6.571488\n",
       "519      6.681216\n",
       "520      6.790944\n",
       "Name: Space_Headway, Length: 521, dtype: float64"
      ]
     },
     "execution_count": 2,
     "metadata": {},
     "output_type": "execute_result"
    }
   ],
   "source": [
    "Follower=pd.read_csv('Follower.csv')\n",
    "Follower['Space_Headway'] -4.572"
   ]
  },
  {
   "cell_type": "code",
   "execution_count": 3,
   "id": "b3df33bf",
   "metadata": {},
   "outputs": [],
   "source": [
    "Lead=pd.read_csv('leader.csv')\n"
   ]
  },
  {
   "cell_type": "code",
   "execution_count": 4,
   "id": "e42795c1",
   "metadata": {},
   "outputs": [],
   "source": [
    "L = len(Lead)\n",
    "Lead = Lead.reset_index() #reindexign to avoid zero\n",
    "del Lead['index']\n",
    "Lead.index = Lead.index + 1"
   ]
  },
  {
   "cell_type": "code",
   "execution_count": 5,
   "id": "1f66c210-0400-46a6-9d13-2b939f47d5e7",
   "metadata": {},
   "outputs": [
    {
     "data": {
      "text/plain": [
       "1      0.000000\n",
       "2      0.000000\n",
       "3      0.000000\n",
       "4      0.000000\n",
       "5      0.000000\n",
       "         ...   \n",
       "517    3.194304\n",
       "518    3.453384\n",
       "519    3.788664\n",
       "520    4.056888\n",
       "521    4.197096\n",
       "Name: v_Vel, Length: 521, dtype: float64"
      ]
     },
     "execution_count": 5,
     "metadata": {},
     "output_type": "execute_result"
    }
   ],
   "source": [
    "Lead.v_Vel"
   ]
  },
  {
   "cell_type": "code",
   "execution_count": 6,
   "id": "1da3b9a4-3629-46ba-910c-317a48e76454",
   "metadata": {},
   "outputs": [
    {
     "data": {
      "text/plain": [
       "521"
      ]
     },
     "execution_count": 6,
     "metadata": {},
     "output_type": "execute_result"
    }
   ],
   "source": [
    "len(Lead)"
   ]
  },
  {
   "cell_type": "code",
   "execution_count": null,
   "id": "43acefb2-8078-4dff-aa37-ea1b24e5cbfb",
   "metadata": {},
   "outputs": [],
   "source": []
  },
  {
   "cell_type": "code",
   "execution_count": 17,
   "id": "b90d7551",
   "metadata": {},
   "outputs": [],
   "source": [
    "#Leader 511\n",
    "xpos = 482.768453-pd.DataFrame(Lead['Local_Y'])\n",
    "N = len(Lead)\n",
    "T = pd.DataFrame(Lead['Frame_ID'])\n",
    "\n",
    "xn = []\n",
    "newar=[]\n",
    "id=511\n",
    "for i in range (0, len(xpos)):\n",
    "    if i==0:\n",
    "        vr = np.round_((xpos.iat[Lead.index.start,-1]-xpos.iat[Lead.index.start-1,-1])/0.1,4)\n",
    "        ar = np.round_((xpos.iat[Lead.index.start+1,-1]-2*xpos.iat[Lead.index.start,-1]+xpos.iat[Lead.index.start-1,-1])/0.01,4)\n",
    "      \n",
    "    elif i==len(xpos):\n",
    "        vr = np.round_((xpos.iat[len(xpos)-1,-1]-xpos.iat[len(xpos)-2,-1])/0.1,4)\n",
    "        ar=  np.round_((xpos.iat[len(xpos)-1,-1]-2*xpos.iat[len(xpos)-2,-1]+ xpos.iat[len(xpos)-3,-1])/0.01,4)\n",
    "        \n",
    "    elif i>1 and i< len(xpos)-1:\n",
    "        vr = np.round_((xpos.iat[i+1,-1]-xpos.iat[i-1,-1])/0.2,4)\n",
    "        ar = np.round_((xpos.iat[i+1,-1]-2*xpos.iat[i,-1]+xpos.iat[i-1,-1])/0.01,4)\n",
    "        \n",
    "    newar.append([id,T.iat[i,-1],xpos.iat[i,-1],vr,ar])\n",
    "            \n",
    "newdata3 = pd.DataFrame(newar, columns = [\"Vehicle_ID\", \"FrameID\",\"leaderLocal_Y\",\"Approx_Vel\",\"Approx_Acc\"])  "
   ]
  },
  {
   "cell_type": "code",
   "execution_count": 18,
   "id": "563c4188",
   "metadata": {},
   "outputs": [
    {
     "data": {
      "text/html": [
       "<div>\n",
       "<style scoped>\n",
       "    .dataframe tbody tr th:only-of-type {\n",
       "        vertical-align: middle;\n",
       "    }\n",
       "\n",
       "    .dataframe tbody tr th {\n",
       "        vertical-align: top;\n",
       "    }\n",
       "\n",
       "    .dataframe thead th {\n",
       "        text-align: right;\n",
       "    }\n",
       "</style>\n",
       "<table border=\"1\" class=\"dataframe\">\n",
       "  <thead>\n",
       "    <tr style=\"text-align: right;\">\n",
       "      <th></th>\n",
       "      <th>Vehicle_ID</th>\n",
       "      <th>FrameID</th>\n",
       "      <th>leaderLocal_Y</th>\n",
       "      <th>Approx_Vel</th>\n",
       "      <th>Approx_Acc</th>\n",
       "    </tr>\n",
       "  </thead>\n",
       "  <tbody>\n",
       "    <tr>\n",
       "      <th>0</th>\n",
       "      <td>511</td>\n",
       "      <td>3341</td>\n",
       "      <td>134.002882</td>\n",
       "      <td>0.0000</td>\n",
       "      <td>0.0000</td>\n",
       "    </tr>\n",
       "    <tr>\n",
       "      <th>1</th>\n",
       "      <td>511</td>\n",
       "      <td>3342</td>\n",
       "      <td>134.002882</td>\n",
       "      <td>0.0000</td>\n",
       "      <td>0.0000</td>\n",
       "    </tr>\n",
       "    <tr>\n",
       "      <th>2</th>\n",
       "      <td>511</td>\n",
       "      <td>3343</td>\n",
       "      <td>134.002882</td>\n",
       "      <td>0.0000</td>\n",
       "      <td>0.0000</td>\n",
       "    </tr>\n",
       "    <tr>\n",
       "      <th>3</th>\n",
       "      <td>511</td>\n",
       "      <td>3344</td>\n",
       "      <td>134.002882</td>\n",
       "      <td>0.0000</td>\n",
       "      <td>0.0000</td>\n",
       "    </tr>\n",
       "    <tr>\n",
       "      <th>4</th>\n",
       "      <td>511</td>\n",
       "      <td>3345</td>\n",
       "      <td>134.002882</td>\n",
       "      <td>0.0000</td>\n",
       "      <td>0.0000</td>\n",
       "    </tr>\n",
       "    <tr>\n",
       "      <th>...</th>\n",
       "      <td>...</td>\n",
       "      <td>...</td>\n",
       "      <td>...</td>\n",
       "      <td>...</td>\n",
       "      <td>...</td>\n",
       "    </tr>\n",
       "    <tr>\n",
       "      <th>516</th>\n",
       "      <td>511</td>\n",
       "      <td>3857</td>\n",
       "      <td>302.000412</td>\n",
       "      <td>3.1044</td>\n",
       "      <td>1.5545</td>\n",
       "    </tr>\n",
       "    <tr>\n",
       "      <th>517</th>\n",
       "      <td>511</td>\n",
       "      <td>3858</td>\n",
       "      <td>302.318623</td>\n",
       "      <td>3.4061</td>\n",
       "      <td>4.4806</td>\n",
       "    </tr>\n",
       "    <tr>\n",
       "      <th>518</th>\n",
       "      <td>511</td>\n",
       "      <td>3859</td>\n",
       "      <td>302.681640</td>\n",
       "      <td>3.8374</td>\n",
       "      <td>4.1453</td>\n",
       "    </tr>\n",
       "    <tr>\n",
       "      <th>519</th>\n",
       "      <td>511</td>\n",
       "      <td>3860</td>\n",
       "      <td>303.086110</td>\n",
       "      <td>4.1514</td>\n",
       "      <td>2.1336</td>\n",
       "    </tr>\n",
       "    <tr>\n",
       "      <th>520</th>\n",
       "      <td>511</td>\n",
       "      <td>3861</td>\n",
       "      <td>303.511915</td>\n",
       "      <td>4.1514</td>\n",
       "      <td>2.1336</td>\n",
       "    </tr>\n",
       "  </tbody>\n",
       "</table>\n",
       "<p>521 rows × 5 columns</p>\n",
       "</div>"
      ],
      "text/plain": [
       "     Vehicle_ID  FrameID  leaderLocal_Y  Approx_Vel  Approx_Acc\n",
       "0           511     3341     134.002882      0.0000      0.0000\n",
       "1           511     3342     134.002882      0.0000      0.0000\n",
       "2           511     3343     134.002882      0.0000      0.0000\n",
       "3           511     3344     134.002882      0.0000      0.0000\n",
       "4           511     3345     134.002882      0.0000      0.0000\n",
       "..          ...      ...            ...         ...         ...\n",
       "516         511     3857     302.000412      3.1044      1.5545\n",
       "517         511     3858     302.318623      3.4061      4.4806\n",
       "518         511     3859     302.681640      3.8374      4.1453\n",
       "519         511     3860     303.086110      4.1514      2.1336\n",
       "520         511     3861     303.511915      4.1514      2.1336\n",
       "\n",
       "[521 rows x 5 columns]"
      ]
     },
     "execution_count": 18,
     "metadata": {},
     "output_type": "execute_result"
    }
   ],
   "source": [
    "newdata3"
   ]
  },
  {
   "cell_type": "code",
   "execution_count": 19,
   "id": "429ed43f",
   "metadata": {},
   "outputs": [],
   "source": [
    "vn=[]\n",
    "an=[]\n",
    "approx_v=[]\n",
    "approx_a=[]\n",
    "vr = Lead[[\"v_Vel\"]]    #instantaneous velocity smoothened\n",
    "ar= Lead[[\"v_Acc\"]]     #instantaneous acceleration smoothened\n",
    "approx_vr = newdata3[[\"Approx_Vel\"]]    #numerical method derived speed \n",
    "approx_ar= newdata3[[\"Approx_Acc\"]]     # numerical method derived acceleration\n",
    "T = 1.5\n",
    "dt = 0.1\n",
    "de = T/dt\n",
    "d = 3*de\n",
    "\n"
   ]
  },
  {
   "cell_type": "code",
   "execution_count": 20,
   "id": "fbcff5dd-a09b-46f5-b0d7-d956788486b8",
   "metadata": {},
   "outputs": [
    {
     "data": {
      "text/plain": [
       "Approx_Vel    4.1514\n",
       "Name: 520, dtype: float64"
      ]
     },
     "execution_count": 20,
     "metadata": {},
     "output_type": "execute_result"
    }
   ],
   "source": [
    "approx_vr.iloc[520]"
   ]
  },
  {
   "cell_type": "code",
   "execution_count": 21,
   "id": "bb09d770",
   "metadata": {},
   "outputs": [],
   "source": [
    "for n in range (1, N+1):\n",
    "            #xnew = []\n",
    "        #n = 3\n",
    "        D = np.amin([d,n-1,N-n])\n",
    "        k = int(n-D)\n",
    "        l = int(n+D)\n",
    "        z = 0.00000000001\n",
    "        y = 0.00000000001\n",
    "        a = 0.00000000001\n",
    "        for j in range (k, l+1):\n",
    "            Z = np.exp(-(np.abs(n-j))/de)\n",
    "            at = approx_vr.iloc[j-1]\n",
    "            A= at*(np.exp(-(np.abs(n-j))/de))\n",
    "            z = z +Z\n",
    "            a = a + A\n",
    "        anew = a/z\n",
    "        approx_v = np.append(approx_v,anew)\n",
    "        approx_v = pd.DataFrame(approx_v)"
   ]
  },
  {
   "cell_type": "code",
   "execution_count": 22,
   "id": "fe0d7398-7540-425f-989b-cd21e4ddfeea",
   "metadata": {},
   "outputs": [],
   "source": [
    "for n in range (1, N+1):\n",
    "            #xnew = []\n",
    "        #n = 3\n",
    "        D = np.amin([d,n-1,N-n])\n",
    "        k = int(n-D)\n",
    "        l = int(n+D)\n",
    "        z = 0.00000000001\n",
    "        y = 0.00000000001\n",
    "        a = 0.00000000001\n",
    "        for j in range (k, l+1):\n",
    "            Z = np.exp(-(np.abs(n-j))/de)\n",
    "            at = approx_ar.iloc[j-1]\n",
    "            A= at*(np.exp(-(np.abs(n-j))/de))\n",
    "            z = z +Z\n",
    "            a = a + A\n",
    "        anew = a/z\n",
    "        approx_a = np.append(approx_a,anew)\n",
    "        approx_a = pd.DataFrame(approx_a)"
   ]
  },
  {
   "cell_type": "code",
   "execution_count": 23,
   "id": "28ee4eea",
   "metadata": {},
   "outputs": [],
   "source": [
    "for n in range (1, N+1):\n",
    "            #xnew = []\n",
    "        #n = 3\n",
    "        D = np.amin([d,n-1,N-n])\n",
    "        k = int(n-D)\n",
    "        l = int(n+D)\n",
    "        z = 0.00000000001\n",
    "        y = 0.00000000001\n",
    "        a = 0.00000000001\n",
    "        for j in range (k, l+1):\n",
    "            Z = np.exp(-(np.abs(n-j))/de)\n",
    "            at = ar.iloc[j-1]\n",
    "            A= at*(np.exp(-(np.abs(n-j))/de))\n",
    "            z = z +Z\n",
    "            a = a + A\n",
    "        anew = a/z\n",
    "        an = np.append(an,anew)\n",
    "        an = pd.DataFrame(an)"
   ]
  },
  {
   "cell_type": "code",
   "execution_count": 24,
   "id": "72292059",
   "metadata": {},
   "outputs": [],
   "source": [
    "for n in range (1, N+1):\n",
    "            #xnew = []\n",
    "        #n = 3\n",
    "        D = np.amin([d,n-1,N-n])\n",
    "        k = int(n-D)\n",
    "        l = int(n+D)\n",
    "        z = 0.00000000001\n",
    "        y = 0.00000000001\n",
    "        a = 0.00000000001\n",
    "        for j in range (k, l+1):\n",
    "            Z = np.exp(-(np.abs(n-j))/de)\n",
    "            xt = xpos.iloc[j-1]\n",
    "            vt = vr.iloc[j-1]\n",
    "            Y = xt*(np.exp(-(np.abs(n-j))/de))\n",
    "            A= vt*(np.exp(-(np.abs(n-j))/de))\n",
    "            z = z +Z\n",
    "            y = y + Y\n",
    "            a = a + A\n",
    "        xnew = y/z\n",
    "        vnew = a/z\n",
    "        xn = np.append(xn,xnew)\n",
    "        vn = np.append(vn,vnew)\n",
    "        xn = pd.DataFrame(xn)\n",
    "        vn = pd.DataFrame(vn)"
   ]
  },
  {
   "cell_type": "code",
   "execution_count": 25,
   "id": "f47c6cfc",
   "metadata": {},
   "outputs": [],
   "source": [
    "newdata3=newdata3.assign(lead_Smooth_v_vel = vn)\n",
    "newdata3=newdata3.assign(lead_Smooth_approx_v_vel = approx_v)\n",
    "newdata3=newdata3.assign(lead_Smooth_approx_v_Acc = approx_a)\n",
    "newdata3=newdata3.assign(lead_Smooth_v_Acc = an)\n",
    "newdata3=newdata3.assign(lead_Smooth_Y= xn)"
   ]
  },
  {
   "cell_type": "code",
   "execution_count": 26,
   "id": "d5809a1a-b35c-4be0-8a03-32955cc059e5",
   "metadata": {},
   "outputs": [
    {
     "data": {
      "text/html": [
       "<div>\n",
       "<style scoped>\n",
       "    .dataframe tbody tr th:only-of-type {\n",
       "        vertical-align: middle;\n",
       "    }\n",
       "\n",
       "    .dataframe tbody tr th {\n",
       "        vertical-align: top;\n",
       "    }\n",
       "\n",
       "    .dataframe thead th {\n",
       "        text-align: right;\n",
       "    }\n",
       "</style>\n",
       "<table border=\"1\" class=\"dataframe\">\n",
       "  <thead>\n",
       "    <tr style=\"text-align: right;\">\n",
       "      <th></th>\n",
       "      <th>Vehicle_ID</th>\n",
       "      <th>FrameID</th>\n",
       "      <th>leaderLocal_Y</th>\n",
       "      <th>Approx_Vel</th>\n",
       "      <th>Approx_Acc</th>\n",
       "      <th>lead_Smooth_v_vel</th>\n",
       "      <th>lead_Smooth_approx_v_vel</th>\n",
       "      <th>lead_Smooth_approx_v_Acc</th>\n",
       "      <th>lead_Smooth_v_Acc</th>\n",
       "      <th>lead_Smooth_Y</th>\n",
       "    </tr>\n",
       "  </thead>\n",
       "  <tbody>\n",
       "    <tr>\n",
       "      <th>0</th>\n",
       "      <td>511</td>\n",
       "      <td>3341</td>\n",
       "      <td>134.002882</td>\n",
       "      <td>0.0000</td>\n",
       "      <td>0.0000</td>\n",
       "      <td>1.000000e-11</td>\n",
       "      <td>1.000000e-11</td>\n",
       "      <td>1.000000e-11</td>\n",
       "      <td>1.000000e-11</td>\n",
       "      <td>134.002882</td>\n",
       "    </tr>\n",
       "    <tr>\n",
       "      <th>1</th>\n",
       "      <td>511</td>\n",
       "      <td>3342</td>\n",
       "      <td>134.002882</td>\n",
       "      <td>0.0000</td>\n",
       "      <td>0.0000</td>\n",
       "      <td>3.483090e-12</td>\n",
       "      <td>3.483090e-12</td>\n",
       "      <td>3.483090e-12</td>\n",
       "      <td>3.483090e-12</td>\n",
       "      <td>134.002882</td>\n",
       "    </tr>\n",
       "    <tr>\n",
       "      <th>2</th>\n",
       "      <td>511</td>\n",
       "      <td>3343</td>\n",
       "      <td>134.002882</td>\n",
       "      <td>0.0000</td>\n",
       "      <td>0.0000</td>\n",
       "      <td>2.163865e-12</td>\n",
       "      <td>2.163865e-12</td>\n",
       "      <td>2.163865e-12</td>\n",
       "      <td>2.163865e-12</td>\n",
       "      <td>134.002882</td>\n",
       "    </tr>\n",
       "    <tr>\n",
       "      <th>3</th>\n",
       "      <td>511</td>\n",
       "      <td>3344</td>\n",
       "      <td>134.002882</td>\n",
       "      <td>0.0000</td>\n",
       "      <td>0.0000</td>\n",
       "      <td>1.597745e-12</td>\n",
       "      <td>1.597745e-12</td>\n",
       "      <td>1.597745e-12</td>\n",
       "      <td>1.597745e-12</td>\n",
       "      <td>134.002882</td>\n",
       "    </tr>\n",
       "    <tr>\n",
       "      <th>4</th>\n",
       "      <td>511</td>\n",
       "      <td>3345</td>\n",
       "      <td>134.002882</td>\n",
       "      <td>0.0000</td>\n",
       "      <td>0.0000</td>\n",
       "      <td>1.283585e-12</td>\n",
       "      <td>1.283585e-12</td>\n",
       "      <td>1.283585e-12</td>\n",
       "      <td>1.283585e-12</td>\n",
       "      <td>134.002882</td>\n",
       "    </tr>\n",
       "    <tr>\n",
       "      <th>...</th>\n",
       "      <td>...</td>\n",
       "      <td>...</td>\n",
       "      <td>...</td>\n",
       "      <td>...</td>\n",
       "      <td>...</td>\n",
       "      <td>...</td>\n",
       "      <td>...</td>\n",
       "      <td>...</td>\n",
       "      <td>...</td>\n",
       "      <td>...</td>\n",
       "    </tr>\n",
       "    <tr>\n",
       "      <th>516</th>\n",
       "      <td>511</td>\n",
       "      <td>3857</td>\n",
       "      <td>302.000412</td>\n",
       "      <td>3.1044</td>\n",
       "      <td>1.5545</td>\n",
       "      <td>3.326882e+00</td>\n",
       "      <td>3.329898e+00</td>\n",
       "      <td>2.261760e+00</td>\n",
       "      <td>1.981363e+00</td>\n",
       "      <td>302.064267</td>\n",
       "    </tr>\n",
       "    <tr>\n",
       "      <th>517</th>\n",
       "      <td>511</td>\n",
       "      <td>3858</td>\n",
       "      <td>302.318623</td>\n",
       "      <td>3.4061</td>\n",
       "      <td>4.4806</td>\n",
       "      <td>3.520731e+00</td>\n",
       "      <td>3.517039e+00</td>\n",
       "      <td>2.254311e+00</td>\n",
       "      <td>1.928905e+00</td>\n",
       "      <td>302.381307</td>\n",
       "    </tr>\n",
       "    <tr>\n",
       "      <th>518</th>\n",
       "      <td>511</td>\n",
       "      <td>3859</td>\n",
       "      <td>302.681640</td>\n",
       "      <td>3.8374</td>\n",
       "      <td>4.1453</td>\n",
       "      <td>3.739880e+00</td>\n",
       "      <td>3.734306e+00</td>\n",
       "      <td>2.934343e+00</td>\n",
       "      <td>2.266021e+00</td>\n",
       "      <td>302.718257</td>\n",
       "    </tr>\n",
       "    <tr>\n",
       "      <th>519</th>\n",
       "      <td>511</td>\n",
       "      <td>3860</td>\n",
       "      <td>303.086110</td>\n",
       "      <td>4.1514</td>\n",
       "      <td>2.1336</td>\n",
       "      <td>4.015175e+00</td>\n",
       "      <td>4.049085e+00</td>\n",
       "      <td>2.789103e+00</td>\n",
       "      <td>1.954384e+00</td>\n",
       "      <td>303.093062</td>\n",
       "    </tr>\n",
       "    <tr>\n",
       "      <th>520</th>\n",
       "      <td>511</td>\n",
       "      <td>3861</td>\n",
       "      <td>303.511915</td>\n",
       "      <td>4.1514</td>\n",
       "      <td>2.1336</td>\n",
       "      <td>4.197096e+00</td>\n",
       "      <td>4.151400e+00</td>\n",
       "      <td>2.133600e+00</td>\n",
       "      <td>4.663440e-01</td>\n",
       "      <td>303.511915</td>\n",
       "    </tr>\n",
       "  </tbody>\n",
       "</table>\n",
       "<p>521 rows × 10 columns</p>\n",
       "</div>"
      ],
      "text/plain": [
       "     Vehicle_ID  FrameID  leaderLocal_Y  Approx_Vel  Approx_Acc  \\\n",
       "0           511     3341     134.002882      0.0000      0.0000   \n",
       "1           511     3342     134.002882      0.0000      0.0000   \n",
       "2           511     3343     134.002882      0.0000      0.0000   \n",
       "3           511     3344     134.002882      0.0000      0.0000   \n",
       "4           511     3345     134.002882      0.0000      0.0000   \n",
       "..          ...      ...            ...         ...         ...   \n",
       "516         511     3857     302.000412      3.1044      1.5545   \n",
       "517         511     3858     302.318623      3.4061      4.4806   \n",
       "518         511     3859     302.681640      3.8374      4.1453   \n",
       "519         511     3860     303.086110      4.1514      2.1336   \n",
       "520         511     3861     303.511915      4.1514      2.1336   \n",
       "\n",
       "     lead_Smooth_v_vel  lead_Smooth_approx_v_vel  lead_Smooth_approx_v_Acc  \\\n",
       "0         1.000000e-11              1.000000e-11              1.000000e-11   \n",
       "1         3.483090e-12              3.483090e-12              3.483090e-12   \n",
       "2         2.163865e-12              2.163865e-12              2.163865e-12   \n",
       "3         1.597745e-12              1.597745e-12              1.597745e-12   \n",
       "4         1.283585e-12              1.283585e-12              1.283585e-12   \n",
       "..                 ...                       ...                       ...   \n",
       "516       3.326882e+00              3.329898e+00              2.261760e+00   \n",
       "517       3.520731e+00              3.517039e+00              2.254311e+00   \n",
       "518       3.739880e+00              3.734306e+00              2.934343e+00   \n",
       "519       4.015175e+00              4.049085e+00              2.789103e+00   \n",
       "520       4.197096e+00              4.151400e+00              2.133600e+00   \n",
       "\n",
       "     lead_Smooth_v_Acc  lead_Smooth_Y  \n",
       "0         1.000000e-11     134.002882  \n",
       "1         3.483090e-12     134.002882  \n",
       "2         2.163865e-12     134.002882  \n",
       "3         1.597745e-12     134.002882  \n",
       "4         1.283585e-12     134.002882  \n",
       "..                 ...            ...  \n",
       "516       1.981363e+00     302.064267  \n",
       "517       1.928905e+00     302.381307  \n",
       "518       2.266021e+00     302.718257  \n",
       "519       1.954384e+00     303.093062  \n",
       "520       4.663440e-01     303.511915  \n",
       "\n",
       "[521 rows x 10 columns]"
      ]
     },
     "execution_count": 26,
     "metadata": {},
     "output_type": "execute_result"
    }
   ],
   "source": [
    "newdata3"
   ]
  },
  {
   "cell_type": "code",
   "execution_count": null,
   "id": "965dbd31-e1eb-4012-857b-d4a09b0ddc4a",
   "metadata": {},
   "outputs": [],
   "source": []
  },
  {
   "cell_type": "code",
   "execution_count": 27,
   "id": "d3d62e9a",
   "metadata": {},
   "outputs": [
    {
     "data": {
      "text/plain": [
       "[<matplotlib.lines.Line2D at 0x1c231993370>]"
      ]
     },
     "execution_count": 27,
     "metadata": {},
     "output_type": "execute_result"
    },
    {
     "data": {
      "image/png": "[encoded data removed]",
      "text/plain": [
       "<Figure size 432x288 with 1 Axes>"
      ]
     },
     "metadata": {
      "needs_background": "light"
     },
     "output_type": "display_data"
    }
   ],
   "source": [
    "plt.plot(newdata3[\"FrameID\"],newdata3[\"leaderLocal_Y\"])\n",
    "plt.plot(newdata3[\"FrameID\"],newdata3[\"lead_Smooth_Y\"])\n"
   ]
  },
  {
   "cell_type": "code",
   "execution_count": 28,
   "id": "45151994-dc90-4c26-b697-035c3296c21e",
   "metadata": {},
   "outputs": [
    {
     "data": {
      "text/plain": [
       "<matplotlib.legend.Legend at 0x1c231a62b50>"
      ]
     },
     "execution_count": 28,
     "metadata": {},
     "output_type": "execute_result"
    },
    {
     "data": {
      "image/png": "[encoded data removed]",
      "text/plain": [
       "<Figure size 432x288 with 1 Axes>"
      ]
     },
     "metadata": {
      "needs_background": "light"
     },
     "output_type": "display_data"
    }
   ],
   "source": [
    "plt.plot(newdata3[\"FrameID\"],newdata3[\"Approx_Vel\"])\n",
    "plt.plot(newdata3[\"FrameID\"],newdata3[\"lead_Smooth_approx_v_vel\"])\n",
    "plt.legend([\"Raw velocity\",\"Smooth_velocity\"])\n"
   ]
  },
  {
   "cell_type": "code",
   "execution_count": 29,
   "id": "c279db85",
   "metadata": {},
   "outputs": [],
   "source": [
    "L = len(Follower)\n",
    "Follower = Follower.reset_index() #reindexign to avoid zero\n",
    "del Follower['index']\n",
    "Follower.index = Follower.index + 1\n",
    "\n",
    "id=528\n",
    "xpos = 482.768453-pd.DataFrame(Follower['Local_Y'])\n",
    "N = len(Follower)\n",
    "T = pd.DataFrame(Follower['Frame_ID'])\n",
    "\n",
    "xn = []\n",
    "newar=[]\n",
    "for i in range (0, len(xpos)):\n",
    "    if i==0:\n",
    "        vr = np.round_((xpos.iat[Follower.index.start,-1]-xpos.iat[Follower.index.start-1,-1])/0.1,4)\n",
    "        ar = np.round_((xpos.iat[Follower.index.start+1,-1]-2*xpos.iat[Follower.index.start,-1]+xpos.iat[Follower.index.start-1,-1])/0.01,4)\n",
    "    elif i==len(xpos):\n",
    "        vr = np.round_((xpos.iat[len(xpos)-1,-1]-xpos.iat[len(xpos)-2,-1])/0.1,4)\n",
    "        ar=  np.round_((xpos.iat[len(xpos)-1,-1]-2*xpos.iat[len(xpos)-2,-1]+ xpos.iat[len(xpos)-3,-1])/0.01,4)\n",
    "        \n",
    "    elif i>1 and i< len(xpos)-1:\n",
    "        vr = np.round_((xpos.iat[i+1,-1]-xpos.iat[i-1,-1])/0.2,4)\n",
    "        ar = np.round_((xpos.iat[i+1,-1]-2*xpos.iat[i,-1]+xpos.iat[i-1,-1])/0.01,4)\n",
    "        \n",
    "    newar.append([id,T.iat[i,-1],xpos.iat[i,-1],vr,ar])\n",
    "            \n",
    "newdata4 = pd.DataFrame(newar, columns = [\"Vehicle_ID\", \"FrameID\",\"Local_Y\",\"Approx_vel\",\"Approx_Acc\"])  "
   ]
  },
  {
   "cell_type": "code",
   "execution_count": 30,
   "id": "c89f0a4a",
   "metadata": {},
   "outputs": [
    {
     "data": {
      "text/html": [
       "<div>\n",
       "<style scoped>\n",
       "    .dataframe tbody tr th:only-of-type {\n",
       "        vertical-align: middle;\n",
       "    }\n",
       "\n",
       "    .dataframe tbody tr th {\n",
       "        vertical-align: top;\n",
       "    }\n",
       "\n",
       "    .dataframe thead th {\n",
       "        text-align: right;\n",
       "    }\n",
       "</style>\n",
       "<table border=\"1\" class=\"dataframe\">\n",
       "  <thead>\n",
       "    <tr style=\"text-align: right;\">\n",
       "      <th></th>\n",
       "      <th>Vehicle_ID</th>\n",
       "      <th>FrameID</th>\n",
       "      <th>Local_Y</th>\n",
       "      <th>Approx_vel</th>\n",
       "      <th>Approx_Acc</th>\n",
       "    </tr>\n",
       "  </thead>\n",
       "  <tbody>\n",
       "    <tr>\n",
       "      <th>0</th>\n",
       "      <td>528</td>\n",
       "      <td>3341</td>\n",
       "      <td>2.000000e-07</td>\n",
       "      <td>2.9931</td>\n",
       "      <td>-0.0000</td>\n",
       "    </tr>\n",
       "    <tr>\n",
       "      <th>1</th>\n",
       "      <td>528</td>\n",
       "      <td>3342</td>\n",
       "      <td>2.993138e-01</td>\n",
       "      <td>2.9931</td>\n",
       "      <td>-0.0000</td>\n",
       "    </tr>\n",
       "    <tr>\n",
       "      <th>2</th>\n",
       "      <td>528</td>\n",
       "      <td>3343</td>\n",
       "      <td>5.986274e-01</td>\n",
       "      <td>2.9977</td>\n",
       "      <td>0.0914</td>\n",
       "    </tr>\n",
       "    <tr>\n",
       "      <th>3</th>\n",
       "      <td>528</td>\n",
       "      <td>3344</td>\n",
       "      <td>8.988554e-01</td>\n",
       "      <td>2.9886</td>\n",
       "      <td>-0.2743</td>\n",
       "    </tr>\n",
       "    <tr>\n",
       "      <th>4</th>\n",
       "      <td>528</td>\n",
       "      <td>3345</td>\n",
       "      <td>1.196340e+00</td>\n",
       "      <td>2.9413</td>\n",
       "      <td>-0.6706</td>\n",
       "    </tr>\n",
       "    <tr>\n",
       "      <th>...</th>\n",
       "      <td>...</td>\n",
       "      <td>...</td>\n",
       "      <td>...</td>\n",
       "      <td>...</td>\n",
       "      <td>...</td>\n",
       "    </tr>\n",
       "    <tr>\n",
       "      <th>516</th>\n",
       "      <td>528</td>\n",
       "      <td>3857</td>\n",
       "      <td>2.910947e+02</td>\n",
       "      <td>1.7663</td>\n",
       "      <td>4.8463</td>\n",
       "    </tr>\n",
       "    <tr>\n",
       "      <th>517</th>\n",
       "      <td>528</td>\n",
       "      <td>3858</td>\n",
       "      <td>2.912955e+02</td>\n",
       "      <td>2.2205</td>\n",
       "      <td>4.2367</td>\n",
       "    </tr>\n",
       "    <tr>\n",
       "      <th>518</th>\n",
       "      <td>528</td>\n",
       "      <td>3859</td>\n",
       "      <td>2.915388e+02</td>\n",
       "      <td>2.6792</td>\n",
       "      <td>4.9378</td>\n",
       "    </tr>\n",
       "    <tr>\n",
       "      <th>519</th>\n",
       "      <td>528</td>\n",
       "      <td>3860</td>\n",
       "      <td>2.918314e+02</td>\n",
       "      <td>3.0450</td>\n",
       "      <td>2.3774</td>\n",
       "    </tr>\n",
       "    <tr>\n",
       "      <th>520</th>\n",
       "      <td>528</td>\n",
       "      <td>3861</td>\n",
       "      <td>2.921478e+02</td>\n",
       "      <td>3.0450</td>\n",
       "      <td>2.3774</td>\n",
       "    </tr>\n",
       "  </tbody>\n",
       "</table>\n",
       "<p>521 rows × 5 columns</p>\n",
       "</div>"
      ],
      "text/plain": [
       "     Vehicle_ID  FrameID       Local_Y  Approx_vel  Approx_Acc\n",
       "0           528     3341  2.000000e-07      2.9931     -0.0000\n",
       "1           528     3342  2.993138e-01      2.9931     -0.0000\n",
       "2           528     3343  5.986274e-01      2.9977      0.0914\n",
       "3           528     3344  8.988554e-01      2.9886     -0.2743\n",
       "4           528     3345  1.196340e+00      2.9413     -0.6706\n",
       "..          ...      ...           ...         ...         ...\n",
       "516         528     3857  2.910947e+02      1.7663      4.8463\n",
       "517         528     3858  2.912955e+02      2.2205      4.2367\n",
       "518         528     3859  2.915388e+02      2.6792      4.9378\n",
       "519         528     3860  2.918314e+02      3.0450      2.3774\n",
       "520         528     3861  2.921478e+02      3.0450      2.3774\n",
       "\n",
       "[521 rows x 5 columns]"
      ]
     },
     "execution_count": 30,
     "metadata": {},
     "output_type": "execute_result"
    }
   ],
   "source": [
    "newdata4"
   ]
  },
  {
   "cell_type": "code",
   "execution_count": 31,
   "id": "14e3d181",
   "metadata": {},
   "outputs": [],
   "source": [
    "vn=[]\n",
    "an=[]\n",
    "approx_v=[]\n",
    "approx_a=[]\n",
    "vr = Follower[[\"v_Vel\"]]    #instantaneous velocity smoothened\n",
    "ar= Follower[[\"v_Acc\"]]     #instantaneous acceleration smoothened\n",
    "approx_vr = newdata4[[\"Approx_vel\"]]    #numerical method derived speed \n",
    "approx_ar= newdata4[[\"Approx_Acc\"]]     # numerical method derived acceleration\n",
    "T = 1.0\n",
    "dt = 0.1\n",
    "de = T/dt\n",
    "d = 3*de\n"
   ]
  },
  {
   "cell_type": "code",
   "execution_count": 32,
   "id": "7a0e22a3",
   "metadata": {},
   "outputs": [],
   "source": [
    "\n",
    "for n in range (1, N+1):\n",
    "            #xnew = []\n",
    "        #n = 3\n",
    "        D = np.amin([d,n-1,N-n])\n",
    "        k = int(n-D)\n",
    "        l = int(n+D)\n",
    "        z = 0.00000000001\n",
    "        y = 0.00000000001\n",
    "        a = 0.00000000001\n",
    "        for j in range (k, l+1):\n",
    "            Z = np.exp(-(np.abs(n-j))/de)\n",
    "            at = approx_vr.iloc[j-1]\n",
    "            A= at*(np.exp(-(np.abs(n-j))/de))\n",
    "            z = z +Z\n",
    "            a = a + A\n",
    "        anew = a/z\n",
    "        approx_v = np.append(approx_v,anew)\n",
    "        approx_v = pd.DataFrame(approx_v)"
   ]
  },
  {
   "cell_type": "code",
   "execution_count": 33,
   "id": "aedb6e99-65f0-4bac-86c8-04135c374828",
   "metadata": {},
   "outputs": [],
   "source": [
    "\n",
    "for n in range (1, N+1):\n",
    "            #xnew = []\n",
    "        #n = 3\n",
    "        D = np.amin([d,n-1,N-n])\n",
    "        k = int(n-D)\n",
    "        l = int(n+D)\n",
    "        z = 0.00000000001\n",
    "        y = 0.00000000001\n",
    "        a = 0.00000000001\n",
    "        for j in range (k, l+1):\n",
    "            Z = np.exp(-(np.abs(n-j))/de)\n",
    "            at = approx_ar.iloc[j-1]\n",
    "            A= at*(np.exp(-(np.abs(n-j))/de))\n",
    "            z = z +Z\n",
    "            a = a + A\n",
    "        anew = a/z\n",
    "        approx_a = np.append(approx_a,anew)\n",
    "        approx_a = pd.DataFrame(approx_a)"
   ]
  },
  {
   "cell_type": "code",
   "execution_count": 34,
   "id": "b9924116",
   "metadata": {},
   "outputs": [],
   "source": [
    "for n in range (1, N+1):\n",
    "            #xnew = []\n",
    "        #n = 3\n",
    "        D = np.amin([d,n-1,N-n])\n",
    "        k = int(n-D)\n",
    "        l = int(n+D)\n",
    "        z = 0.00000000001\n",
    "        y = 0.00000000001\n",
    "        a = 0.00000000001\n",
    "        for j in range (k, l+1):\n",
    "            Z = np.exp(-(np.abs(n-j))/de)\n",
    "            at = ar.iloc[j-1]\n",
    "            A= at*(np.exp(-(np.abs(n-j))/de))\n",
    "            z = z +Z\n",
    "            a = a + A\n",
    "        anew = a/z\n",
    "        an = np.append(an,anew)\n",
    "        an = pd.DataFrame(an)"
   ]
  },
  {
   "cell_type": "code",
   "execution_count": 35,
   "id": "56ec987c",
   "metadata": {},
   "outputs": [],
   "source": [
    "for n in range (1, N+1):\n",
    "            #xnew = []\n",
    "        #n = 3\n",
    "        D = np.amin([d,n-1,N-n])\n",
    "        k = int(n-D)\n",
    "        l = int(n+D)\n",
    "        z = 0.00000000001\n",
    "        y = 0.00000000001\n",
    "        a = 0.00000000001\n",
    "        for j in range (k, l+1):\n",
    "            Z = np.exp(-(np.abs(n-j))/de)\n",
    "            xt = xpos.iloc[j-1]\n",
    "            vt = vr.iloc[j-1]\n",
    "            Y = xt*(np.exp(-(np.abs(n-j))/de))\n",
    "            A= vt*(np.exp(-(np.abs(n-j))/de))\n",
    "            z = z +Z\n",
    "            y = y + Y\n",
    "            a = a + A\n",
    "        xnew = y/z\n",
    "        vnew = a/z\n",
    "        xn = np.append(xn,xnew)\n",
    "        vn = np.append(vn,vnew)\n",
    "        xn = pd.DataFrame(xn)\n",
    "        vn = pd.DataFrame(vn)"
   ]
  },
  {
   "cell_type": "code",
   "execution_count": 36,
   "id": "3e57c64d",
   "metadata": {},
   "outputs": [],
   "source": [
    "newdata4=newdata4.assign(fol_Smooth_v_vel = vn)\n",
    "newdata4=newdata4.assign(fol_Smooth_approx_v_vel = approx_v)\n",
    "newdata4=newdata4.assign(fol_Smooth_approx_v_Acc = approx_a)\n",
    "newdata4=newdata4.assign(fol_Smooth_v_Acc = an)\n",
    "newdata4=newdata4.assign(fol_Smooth_Y= xn)"
   ]
  },
  {
   "cell_type": "code",
   "execution_count": 37,
   "id": "bf223bff-059f-4ca6-9602-2a7ea712a89f",
   "metadata": {},
   "outputs": [
    {
     "data": {
      "text/html": [
       "<div>\n",
       "<style scoped>\n",
       "    .dataframe tbody tr th:only-of-type {\n",
       "        vertical-align: middle;\n",
       "    }\n",
       "\n",
       "    .dataframe tbody tr th {\n",
       "        vertical-align: top;\n",
       "    }\n",
       "\n",
       "    .dataframe thead th {\n",
       "        text-align: right;\n",
       "    }\n",
       "</style>\n",
       "<table border=\"1\" class=\"dataframe\">\n",
       "  <thead>\n",
       "    <tr style=\"text-align: right;\">\n",
       "      <th></th>\n",
       "      <th>Vehicle_ID</th>\n",
       "      <th>FrameID</th>\n",
       "      <th>Local_Y</th>\n",
       "      <th>Approx_vel</th>\n",
       "      <th>Approx_Acc</th>\n",
       "      <th>fol_Smooth_v_vel</th>\n",
       "      <th>fol_Smooth_approx_v_vel</th>\n",
       "      <th>fol_Smooth_approx_v_Acc</th>\n",
       "      <th>fol_Smooth_v_Acc</th>\n",
       "      <th>fol_Smooth_Y</th>\n",
       "    </tr>\n",
       "  </thead>\n",
       "  <tbody>\n",
       "    <tr>\n",
       "      <th>0</th>\n",
       "      <td>528</td>\n",
       "      <td>3341</td>\n",
       "      <td>2.000000e-07</td>\n",
       "      <td>2.9931</td>\n",
       "      <td>-0.0000</td>\n",
       "      <td>3.075432</td>\n",
       "      <td>2.993100</td>\n",
       "      <td>1.000000e-11</td>\n",
       "      <td>1.000000e-11</td>\n",
       "      <td>2.000100e-07</td>\n",
       "    </tr>\n",
       "    <tr>\n",
       "      <th>1</th>\n",
       "      <td>528</td>\n",
       "      <td>3342</td>\n",
       "      <td>2.993138e-01</td>\n",
       "      <td>2.9931</td>\n",
       "      <td>-0.0000</td>\n",
       "      <td>3.075432</td>\n",
       "      <td>2.994581</td>\n",
       "      <td>2.943477e-02</td>\n",
       "      <td>3.559131e-12</td>\n",
       "      <td>2.993138e-01</td>\n",
       "    </tr>\n",
       "    <tr>\n",
       "      <th>2</th>\n",
       "      <td>528</td>\n",
       "      <td>3343</td>\n",
       "      <td>5.986274e-01</td>\n",
       "      <td>2.9977</td>\n",
       "      <td>0.0914</td>\n",
       "      <td>3.073069</td>\n",
       "      <td>2.983682</td>\n",
       "      <td>-1.587174e-01</td>\n",
       "      <td>-1.181209e-02</td>\n",
       "      <td>5.986451e-01</td>\n",
       "    </tr>\n",
       "    <tr>\n",
       "      <th>3</th>\n",
       "      <td>528</td>\n",
       "      <td>3344</td>\n",
       "      <td>8.988554e-01</td>\n",
       "      <td>2.9886</td>\n",
       "      <td>-0.2743</td>\n",
       "      <td>3.123946</td>\n",
       "      <td>3.020302</td>\n",
       "      <td>7.659470e-01</td>\n",
       "      <td>5.927089e-01</td>\n",
       "      <td>8.956606e-01</td>\n",
       "    </tr>\n",
       "    <tr>\n",
       "      <th>4</th>\n",
       "      <td>528</td>\n",
       "      <td>3345</td>\n",
       "      <td>1.196340e+00</td>\n",
       "      <td>2.9413</td>\n",
       "      <td>-0.6706</td>\n",
       "      <td>3.331285</td>\n",
       "      <td>3.239925</td>\n",
       "      <td>1.771194e+00</td>\n",
       "      <td>1.224384e+00</td>\n",
       "      <td>1.216249e+00</td>\n",
       "    </tr>\n",
       "    <tr>\n",
       "      <th>...</th>\n",
       "      <td>...</td>\n",
       "      <td>...</td>\n",
       "      <td>...</td>\n",
       "      <td>...</td>\n",
       "      <td>...</td>\n",
       "      <td>...</td>\n",
       "      <td>...</td>\n",
       "      <td>...</td>\n",
       "      <td>...</td>\n",
       "      <td>...</td>\n",
       "    </tr>\n",
       "    <tr>\n",
       "      <th>516</th>\n",
       "      <td>528</td>\n",
       "      <td>3857</td>\n",
       "      <td>2.910947e+02</td>\n",
       "      <td>1.7663</td>\n",
       "      <td>4.8463</td>\n",
       "      <td>1.699437</td>\n",
       "      <td>1.696920</td>\n",
       "      <td>4.033719e+00</td>\n",
       "      <td>2.753693e+00</td>\n",
       "      <td>2.912318e+02</td>\n",
       "    </tr>\n",
       "    <tr>\n",
       "      <th>517</th>\n",
       "      <td>528</td>\n",
       "      <td>3858</td>\n",
       "      <td>2.912955e+02</td>\n",
       "      <td>2.2205</td>\n",
       "      <td>4.2367</td>\n",
       "      <td>2.112802</td>\n",
       "      <td>2.133397</td>\n",
       "      <td>4.043669e+00</td>\n",
       "      <td>2.763438e+00</td>\n",
       "      <td>2.913766e+02</td>\n",
       "    </tr>\n",
       "    <tr>\n",
       "      <th>518</th>\n",
       "      <td>528</td>\n",
       "      <td>3859</td>\n",
       "      <td>2.915388e+02</td>\n",
       "      <td>2.6792</td>\n",
       "      <td>4.9378</td>\n",
       "      <td>2.534613</td>\n",
       "      <td>2.559575</td>\n",
       "      <td>3.785976e+00</td>\n",
       "      <td>2.456087e+00</td>\n",
       "      <td>2.915792e+02</td>\n",
       "    </tr>\n",
       "    <tr>\n",
       "      <th>519</th>\n",
       "      <td>528</td>\n",
       "      <td>3860</td>\n",
       "      <td>2.918314e+02</td>\n",
       "      <td>3.0450</td>\n",
       "      <td>2.3774</td>\n",
       "      <td>2.871214</td>\n",
       "      <td>2.927197</td>\n",
       "      <td>3.201960e+00</td>\n",
       "      <td>1.737561e+00</td>\n",
       "      <td>2.918390e+02</td>\n",
       "    </tr>\n",
       "    <tr>\n",
       "      <th>520</th>\n",
       "      <td>528</td>\n",
       "      <td>3861</td>\n",
       "      <td>2.921478e+02</td>\n",
       "      <td>3.0450</td>\n",
       "      <td>2.3774</td>\n",
       "      <td>3.020568</td>\n",
       "      <td>3.045000</td>\n",
       "      <td>2.377400e+00</td>\n",
       "      <td>-1.371600e-01</td>\n",
       "      <td>2.921478e+02</td>\n",
       "    </tr>\n",
       "  </tbody>\n",
       "</table>\n",
       "<p>521 rows × 10 columns</p>\n",
       "</div>"
      ],
      "text/plain": [
       "     Vehicle_ID  FrameID       Local_Y  Approx_vel  Approx_Acc  \\\n",
       "0           528     3341  2.000000e-07      2.9931     -0.0000   \n",
       "1           528     3342  2.993138e-01      2.9931     -0.0000   \n",
       "2           528     3343  5.986274e-01      2.9977      0.0914   \n",
       "3           528     3344  8.988554e-01      2.9886     -0.2743   \n",
       "4           528     3345  1.196340e+00      2.9413     -0.6706   \n",
       "..          ...      ...           ...         ...         ...   \n",
       "516         528     3857  2.910947e+02      1.7663      4.8463   \n",
       "517         528     3858  2.912955e+02      2.2205      4.2367   \n",
       "518         528     3859  2.915388e+02      2.6792      4.9378   \n",
       "519         528     3860  2.918314e+02      3.0450      2.3774   \n",
       "520         528     3861  2.921478e+02      3.0450      2.3774   \n",
       "\n",
       "     fol_Smooth_v_vel  fol_Smooth_approx_v_vel  fol_Smooth_approx_v_Acc  \\\n",
       "0            3.075432                 2.993100             1.000000e-11   \n",
       "1            3.075432                 2.994581             2.943477e-02   \n",
       "2            3.073069                 2.983682            -1.587174e-01   \n",
       "3            3.123946                 3.020302             7.659470e-01   \n",
       "4            3.331285                 3.239925             1.771194e+00   \n",
       "..                ...                      ...                      ...   \n",
       "516          1.699437                 1.696920             4.033719e+00   \n",
       "517          2.112802                 2.133397             4.043669e+00   \n",
       "518          2.534613                 2.559575             3.785976e+00   \n",
       "519          2.871214                 2.927197             3.201960e+00   \n",
       "520          3.020568                 3.045000             2.377400e+00   \n",
       "\n",
       "     fol_Smooth_v_Acc  fol_Smooth_Y  \n",
       "0        1.000000e-11  2.000100e-07  \n",
       "1        3.559131e-12  2.993138e-01  \n",
       "2       -1.181209e-02  5.986451e-01  \n",
       "3        5.927089e-01  8.956606e-01  \n",
       "4        1.224384e+00  1.216249e+00  \n",
       "..                ...           ...  \n",
       "516      2.753693e+00  2.912318e+02  \n",
       "517      2.763438e+00  2.913766e+02  \n",
       "518      2.456087e+00  2.915792e+02  \n",
       "519      1.737561e+00  2.918390e+02  \n",
       "520     -1.371600e-01  2.921478e+02  \n",
       "\n",
       "[521 rows x 10 columns]"
      ]
     },
     "execution_count": 37,
     "metadata": {},
     "output_type": "execute_result"
    }
   ],
   "source": [
    "newdata4"
   ]
  },
  {
   "cell_type": "code",
   "execution_count": 48,
   "id": "3ebaa787",
   "metadata": {},
   "outputs": [],
   "source": [
    "newdata4.to_csv('Approx_Fol.csv')"
   ]
  },
  {
   "cell_type": "code",
   "execution_count": 49,
   "id": "cfac4847",
   "metadata": {},
   "outputs": [],
   "source": [
    "newdata3.to_csv('Approx_lead.csv')"
   ]
  },
  {
   "cell_type": "code",
   "execution_count": 40,
   "id": "822fb7b6-4fce-4596-a4a7-3f3517564084",
   "metadata": {},
   "outputs": [],
   "source": [
    "import numpy as np\n",
    "import pandas as pd\n",
    "time=[]\n",
    "time=np.arange(334, 386.1, 0.1)"
   ]
  },
  {
   "cell_type": "code",
   "execution_count": 41,
   "id": "8e348495-4366-465f-bf7f-9964f362a00e",
   "metadata": {},
   "outputs": [
    {
     "data": {
      "text/plain": [
       "386.10000000001185"
      ]
     },
     "execution_count": 41,
     "metadata": {},
     "output_type": "execute_result"
    }
   ],
   "source": [
    "dtime=pd.DataFrame(time,columns=[\"time\"])\n",
    "time1=time.tolist()\n",
    "time1.pop()"
   ]
  },
  {
   "cell_type": "code",
   "execution_count": 42,
   "id": "09dbf1b6",
   "metadata": {},
   "outputs": [
    {
     "data": {
      "image/png": "[encoded data removed]",
      "text/plain": [
       "<Figure size 432x288 with 1 Axes>"
      ]
     },
     "metadata": {
      "needs_background": "light"
     },
     "output_type": "display_data"
    }
   ],
   "source": [
    "plt.plot(time1,newdata4[\"Local_Y\"])\n",
    "plt.plot(time1,newdata4[\"fol_Smooth_Y\"])\n",
    "plt.legend([\"Raw Position\",\"Smooth Position\"])\n",
    "plt.xlabel('Time')\n",
    "plt.ylabel('Position')\n",
    "plt.show()"
   ]
  },
  {
   "cell_type": "code",
   "execution_count": 43,
   "id": "05f7f482",
   "metadata": {},
   "outputs": [
    {
     "data": {
      "image/png": "[encoded data removed]",
      "text/plain": [
       "<Figure size 432x288 with 1 Axes>"
      ]
     },
     "metadata": {
      "needs_background": "light"
     },
     "output_type": "display_data"
    }
   ],
   "source": [
    "plt.plot(time1,newdata4[\"Approx_vel\"])\n",
    "plt.plot(time1,newdata4[\"fol_Smooth_approx_v_vel\"])\n",
    "plt.legend([\"Raw velocity\",\"Smooth_velocity\"])\n",
    "plt.xlabel('Time')\n",
    "plt.ylabel('Velocity')\n",
    "plt.show()"
   ]
  },
  {
   "cell_type": "code",
   "execution_count": 44,
   "id": "8b0fe82e-f4ae-4d8a-9ddc-60a016b9f777",
   "metadata": {},
   "outputs": [
    {
     "data": {
      "image/png": "[encoded data removed]",
      "text/plain": [
       "<Figure size 432x288 with 1 Axes>"
      ]
     },
     "metadata": {
      "needs_background": "light"
     },
     "output_type": "display_data"
    }
   ],
   "source": [
    "plt.plot(time1,Follower[\"v_Acc\"])\n",
    "plt.plot(time1,newdata4[\"fol_Smooth_v_Acc\"])\n",
    "plt.legend([\"Raw Acceleration\",\"Smooth Acceleration\"])\n",
    "plt.xlabel('Time')\n",
    "plt.ylabel('Acceleration')\n",
    "plt.show()"
   ]
  },
  {
   "cell_type": "code",
   "execution_count": 45,
   "id": "d24a07da-f220-485d-9e1a-c28e9a5fbaec",
   "metadata": {},
   "outputs": [
    {
     "data": {
      "image/png": "[encoded data removed]",
      "text/plain": [
       "<Figure size 432x288 with 1 Axes>"
      ]
     },
     "metadata": {
      "needs_background": "light"
     },
     "output_type": "display_data"
    }
   ],
   "source": [
    "plt.plot(time1,newdata3[\"lead_Smooth_Y\"])\n",
    "plt.plot(time1,newdata4[\"fol_Smooth_Y\"])\n",
    "plt.legend([\"Leader \",\"Follower\"])\n",
    "plt.xlabel('Time')\n",
    "plt.ylabel('Long Coordinate')\n",
    "plt.show()"
   ]
  },
  {
   "cell_type": "code",
   "execution_count": 46,
   "id": "1dee094a-5fec-4428-952f-c1513d6fe2c3",
   "metadata": {},
   "outputs": [
    {
     "data": {
      "image/png": "[encoded data removed]",
      "text/plain": [
       "<Figure size 432x288 with 1 Axes>"
      ]
     },
     "metadata": {
      "needs_background": "light"
     },
     "output_type": "display_data"
    }
   ],
   "source": [
    "plt.plot(time1,newdata4[\"Approx_Acc\"])\n",
    "plt.plot(time1,newdata4[\"fol_Smooth_approx_v_Acc\"])\n",
    "plt.legend([\"Raw Acceleration\",\"Smooth Acceleration\"])\n",
    "plt.xlabel('Time')\n",
    "plt.ylabel('Acceleration')\n",
    "plt.show()"
   ]
  },
  {
   "cell_type": "code",
   "execution_count": 47,
   "id": "6607503d-9c0c-4d1a-ac7f-c4b8062cfb92",
   "metadata": {},
   "outputs": [
    {
     "data": {
      "image/png": "[encoded data removed]",
      "text/plain": [
       "<Figure size 432x288 with 1 Axes>"
      ]
     },
     "metadata": {
      "needs_background": "light"
     },
     "output_type": "display_data"
    }
   ],
   "source": [
    "plt.plot(time1,newdata3[\"Approx_Acc\"])\n",
    "plt.plot(time1,newdata3[\"lead_Smooth_approx_v_Acc\"])\n",
    "plt.legend([\"Raw Acceleration\",\"Smooth Acceleration\"])\n",
    "plt.xlabel('Time')\n",
    "plt.ylabel('Acceleration')\n",
    "plt.show()"
   ]
  },
  {
   "cell_type": "code",
   "execution_count": 50,
   "id": "f30bb848-90e2-4e79-837f-a45f0c22799d",
   "metadata": {},
   "outputs": [
    {
     "data": {
      "image/png": "[encoded data removed]",
      "text/plain": [
       "<Figure size 432x288 with 1 Axes>"
      ]
     },
     "metadata": {
      "needs_background": "light"
     },
     "output_type": "display_data"
    }
   ],
   "source": [
    "plt.plot(time1,newdata3[\"Approx_Vel\"])\n",
    "plt.plot(time1,newdata3[\"lead_Smooth_approx_v_vel\"])\n",
    "plt.legend([\"Raw Velocity\",\"Smooth Velocity\"])\n",
    "plt.xlabel('Time')\n",
    "plt.ylabel('Velocity')\n",
    "plt.show()"
   ]
  },
  {
   "cell_type": "code",
   "execution_count": 51,
   "id": "bacba72c-b67c-4649-b814-712c2f471a69",
   "metadata": {},
   "outputs": [
    {
     "data": {
      "image/png": "[encoded data removed]",
      "text/plain": [
       "<Figure size 432x288 with 1 Axes>"
      ]
     },
     "metadata": {
      "needs_background": "light"
     },
     "output_type": "display_data"
    }
   ],
   "source": [
    "plt.plot(newdata3[\"FrameID\"],newdata3[\"leaderLocal_Y\"])\n",
    "plt.plot(newdata3[\"FrameID\"],newdata3[\"lead_Smooth_Y\"])\n",
    "plt.legend([\"Raw Position\",\"Smooth Position\"])\n",
    "plt.xlabel('Time')\n",
    "plt.ylabel('Position')\n",
    "plt.show()"
   ]
  },
  {
   "cell_type": "code",
   "execution_count": null,
   "id": "1efa3e48-4753-4a39-bd23-aea73ff3bd51",
   "metadata": {},
   "outputs": [],
   "source": []
  }
 ],
 "metadata": {
  "kernelspec": {
   "display_name": "Python 3",
   "language": "python",
   "name": "python3"
  },
  "language_info": {
   "codemirror_mode": {
    "name": "ipython",
    "version": 3
   },
   "file_extension": ".py",
   "mimetype": "text/x-python",
   "name": "python",
   "nbconvert_exporter": "python",
   "pygments_lexer": "ipython3",
   "version": "3.8.8"
  }
 },
 "nbformat": 4,
 "nbformat_minor": 5
}
